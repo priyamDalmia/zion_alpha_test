{
 "cells": [
  {
   "cell_type": "markdown",
   "id": "0c2af9ba",
   "metadata": {},
   "source": [
    "## Get Data \n",
    "1. Read the historical AFL results data from file. \n",
    "2. Drop extra cols, drop NA; Keep Scores, Outcomes, and Aggregated Odds.\n",
    "3. Analyze "
   ]
  },
  {
   "cell_type": "code",
   "execution_count": 1,
   "id": "75eba026",
   "metadata": {},
   "outputs": [
    {
     "name": "stdout",
     "output_type": "stream",
     "text": [
      "Data from 2009-06-19 00:00:00 to 2025-06-22 00:00:00\n",
      "Total matches: 3264\n"
     ]
    }
   ],
   "source": [
    "import pandas as pd \n",
    "import json \n",
    "import numpy as np\n",
    "\n",
    "DATA_FILEPATH = \"./data/afl.xlsx\"\n",
    "data = pd.read_excel(DATA_FILEPATH, header=1)\n",
    "data = data[['Date', 'Home Team', 'Away Team', 'Home Score', 'Away Score', 'Home Odds', 'Away Odds']]\n",
    "data['Outcomes'] = np.where(data['Home Score'] > data['Away Score'], 1, 0)\n",
    "data.dropna(subset=['Date', 'Home Odds', 'Away Odds'], inplace=True)\n",
    "print(f\"Data from {data['Date'].min()} to {data['Date'].max()}\")\n",
    "print(f\"Total matches: {len(data)}\")"
   ]
  },
  {
   "cell_type": "code",
   "execution_count": 2,
   "id": "c966a359",
   "metadata": {},
   "outputs": [],
   "source": [
    "def calculate_normmalized_implied_probabilities(actual_odds):\n",
    "    \"\"\"\n",
    "    Calculate implied probabilities from odds.\n",
    "    \n",
    "    Args:\n",
    "        odds (pd.DataFrame): DataFrame containing 'Home Odds' and 'Away Odds'.\n",
    "        \n",
    "    Returns:\n",
    "        pd.DataFrame: DataFrame with implied probabilities for home and away teams.\n",
    "    \"\"\"\n",
    "    actual_probs = 1 / actual_odds\n",
    "    total_prob = actual_probs.sum(axis=1)\n",
    "    fair_probs = actual_probs.div(total_prob, axis=0)\n",
    "    fair_probs.columns = ['Home Probs', 'Away Probs'] \n",
    "    fair_odds = 1 / fair_probs\n",
    "    fair_odds.columns = ['Home Odds', 'Away Odds']\n",
    "    return fair_odds, fair_probs\n",
    "\n",
    "def calculate_weighted_implied_probabilities(actual_odds):\n",
    "    return None\n",
    "\n",
    "def simulate_favourite_betting_strategy(odds, probs, outcomes, stake=10):\n",
    "    \"\"\"\n",
    "    Simulate a betting strategy where you bet on the favourite team.\n",
    "    \n",
    "    Args:\n",
    "        odds (pd.DataFrame): DataFrame containing 'Home Odds' and 'Away Odds'.\n",
    "        probs (pd.DataFrame): DataFrame containing 'Home Probs' and 'Away Probs'.\n",
    "        outcomes (pd.Series): Series with actual outcomes (1 for Home win, 0 for Away).\n",
    "        stake (int): Amount to bet each time.\n",
    "        \n",
    "    Returns:\n",
    "        np.ndarray: Array of profits for each bet. \n",
    "    \"\"\"\n",
    "    home_odds = odds[\"Home Odds\"].values\n",
    "    away_odds = odds[\"Away Odds\"].values\n",
    "\n",
    "    # Identify the favourite team based on odds\n",
    "    is_home_favourite = home_odds < away_odds\n",
    "    favourite_odds = np.where(is_home_favourite, home_odds, away_odds)\n",
    "\n",
    "    # Determin if favourite team won\n",
    "    favourite_wins = np.where(is_home_favourite, outcomes, 1 - outcomes)\n",
    "\n",
    "    # Calculate total winnings\n",
    "    profits = np.where(favourite_wins, (favourite_odds * stake) - stake, -stake)\n",
    "    total_wins = np.sum(favourite_wins)\n",
    "\n",
    "    return profits, total_wins \n",
    "\n",
    "def calculate_brier_score(probs, outcomes):\n",
    "    \"\"\"\n",
    "    Calculate the Brier Score for the given probabilities and outcomes.\n",
    "    \"\"\"\n",
    "    # Step 1: Brier Score (2-class: Home vs Away)\n",
    "    probs = np.vstack([probs['Home Probs'], probs['Away Probs']]).T\n",
    "    actuals = np.vstack([outcomes, 1 - outcomes]).T\n",
    "    brier_score = np.mean(np.sum((probs - actuals) ** 2, axis=1))\n",
    "\n",
    "    return brier_score"
   ]
  },
  {
   "cell_type": "code",
   "execution_count": 3,
   "id": "c04a7b66",
   "metadata": {},
   "outputs": [
    {
     "name": "stdout",
     "output_type": "stream",
     "text": [
      "Brier Score: 0.3873\n",
      "Total Profit from Betting on Favourites: 169.40\n",
      "Total Wins: 2280 out of 3264 matches\n"
     ]
    }
   ],
   "source": [
    "# Get fair odds - Normalized odds\n",
    "fair_odds, fair_probs = calculate_normmalized_implied_probabilities(data[['Home Odds', 'Away Odds']])\n",
    "\n",
    "# Get Brier Score\n",
    "brier_score = calculate_brier_score(fair_probs, data[\"Outcomes\"])\n",
    "print(f\"Brier Score: {brier_score:.4f}\")\n",
    "\n",
    "# Get profit from betting on favourites\n",
    "profits, total_wins = simulate_favourite_betting_strategy(fair_odds, fair_probs, data[\"Outcomes\"])\n",
    "print(f\"Total Profit from Betting on Favourites: {sum(profits):.2f}\")\n",
    "print(f\"Total Wins: {total_wins} out of {len(data)} matches\")"
   ]
  },
  {
   "cell_type": "code",
   "execution_count": null,
   "id": "16be0fef",
   "metadata": {},
   "outputs": [],
   "source": [
    "# Get Weighted Odds\n",
    "weighted_odds, weighted_probs = calculate_weighted_implied_probabilities(data[['Home Odds', 'Away Odds']])"
   ]
  }
 ],
 "metadata": {
  "kernelspec": {
   "display_name": ".venv",
   "language": "python",
   "name": "python3"
  },
  "language_info": {
   "codemirror_mode": {
    "name": "ipython",
    "version": 3
   },
   "file_extension": ".py",
   "mimetype": "text/x-python",
   "name": "python",
   "nbconvert_exporter": "python",
   "pygments_lexer": "ipython3",
   "version": "3.12.0"
  }
 },
 "nbformat": 4,
 "nbformat_minor": 5
}
